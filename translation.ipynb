{
 "cells": [
  {
   "cell_type": "markdown",
   "metadata": {
    "vscode": {
     "languageId": "plaintext"
    }
   },
   "source": [
    "## MMAT (MULTI-MODAL-AGENT-TRANSLATION)"
   ]
  },
  {
   "cell_type": "markdown",
   "metadata": {},
   "source": [
    "Partager\n",
    "\n",
    "\n",
    "Vous avez dit :\n",
    "Fait moi en markdown un text qui explique les étapes pour avoir accès a AWS. Voici les élements à prendre ne compte\n",
    "markdown \n",
    "### MISE EN ROUTE\n",
    "#### Installation\n",
    "https://docs.aws.amazon.com/cli/latest/userguide/getting-started-install.html\n",
    "#### Configuration (aws configure)\n",
    "https://docs.aws.amazon.com/cli/latest/userguide/cli-configure-files.html\n",
    "ChatGPT a dit :\n",
    "markdown\n",
    "Copier\n",
    "Modifier\n",
    "# Guide d'accès à AWS\n",
    "\n",
    "## MISE EN ROUTE\n",
    "\n",
    "### Installation de l'AWS CLI\n",
    "\n",
    "Pour interagir avec les services AWS depuis votre terminal, il est recommandé d'installer l'AWS Command Line Interface (CLI). Suivez les étapes ci-dessous pour installer l'AWS CLI sur votre système :\n",
    "\n",
    "1. **Télécharger l'installateur** :\n",
    "\n",
    "   - **Linux x86 (64-bit)** :\n",
    "\n",
    "     ```bash\n",
    "     curl \"https://awscli.amazonaws.com/awscli-exe-linux-x86_64.zip\" -o \"awscliv2.zip\"\n",
    "     ```\n",
    "\n",
    "   - **macOS** :\n",
    "\n",
    "     ```bash\n",
    "     curl \"https://awscli.amazonaws.com/AWSCLIV2.pkg\" -o \"AWSCLIV2.pkg\"\n",
    "     ```\n",
    "\n",
    "   - **Windows** :\n",
    "\n",
    "     Téléchargez le fichier MSI depuis le site officiel d'AWS.\n",
    "\n",
    "2. **Installer l'AWS CLI** :\n",
    "\n",
    "   - **Linux** :\n",
    "\n",
    "     ```bash\n",
    "     unzip awscliv2.zip\n",
    "     sudo ./aws/install\n",
    "     ```\n",
    "\n",
    "   - **macOS** :\n",
    "\n",
    "     ```bash\n",
    "     sudo installer -pkg AWSCLIV2.pkg -target /\n",
    "     ```\n",
    "\n",
    "   - **Windows** :\n",
    "\n",
    "     Exécutez le fichier MSI téléchargé et suivez les instructions à l'écran.\n",
    "\n",
    "Pour des instructions détaillées et les dernières mises à jour, consultez la documentation officielle : [Installation de l'AWS CLI](https://docs.aws.amazon.com/cli/latest/userguide/getting-started-install.html).\n",
    "\n",
    "### Configuration de l'AWS CLI\n",
    "\n",
    "Après l'installation, configurez l'AWS CLI avec vos informations d'identification AWS :\n",
    "\n",
    "1. **Exécutez la commande de configuration** :\n",
    "\n",
    "   ```bash\n",
    "   aws configure\n",
    "### Sourcs: \n",
    "https://docs.aws.amazon.com/cli/latest/userguide/getting-started-install.html\n",
    "#### Configuration (aws configure)\n",
    "https://docs.aws.amazon.com/cli/latest/userguide/cli-configure-files.html"
   ]
  },
  {
   "cell_type": "code",
   "execution_count": 13,
   "metadata": {},
   "outputs": [],
   "source": [
    "import boto3\n",
    "import botocore\n",
    "import chainlit as cl\n",
    "from langchain_aws import BedrockEmbeddings, ChatBedrock\n",
    "from langchain.prompts import ChatPromptTemplate\n",
    "from langchain_core.output_parsers import StrOutputParser, JsonOutputParser\n",
    "from typing import Any, Dict, List"
   ]
  },
  {
   "cell_type": "code",
   "execution_count": 14,
   "metadata": {},
   "outputs": [
    {
     "name": "stdout",
     "output_type": "stream",
     "text": [
      "2025-02-18 16:44:46 - Found credentials in shared credentials file: ~/.aws/credentials\n"
     ]
    }
   ],
   "source": [
    "# intiatilization of the bedrock client\n",
    "client_config = botocore.config.Config(max_pool_connections=100)\n",
    "bedrock_client = boto3.client(\n",
    "            \"bedrock-runtime\", region_name=\"us-east-1\", config=client_config\n",
    ")\n",
    "\n",
    "# intialization of the chat model\n",
    "llm = ChatBedrock(\n",
    "            client=None,\n",
    "            model_id=\"us.meta.llama3-3-70b-instruct-v1:0\",\n",
    "            region_name=\"us-west-2\",\n",
    "            model_kwargs={\"temperature\":0},\n",
    "        )\n",
    "# intialized the chat prompt\n",
    "embedding = BedrockEmbeddings(\n",
    "            client=bedrock_client,\n",
    "            model_id=\"amazon.titan-embed-text-v2:0\",\n",
    "            region_name=\"us-east-1\",\n",
    "        )"
   ]
  },
  {
   "cell_type": "code",
   "execution_count": 15,
   "metadata": {},
   "outputs": [],
   "source": [
    "\n",
    "\n",
    "\n",
    "class TranslatorAgent:\n",
    "    \"\"\"\n",
    "        this class is an example of Translation agent that uses the bedrock model to \n",
    "        translate text to a target language.\n",
    "        It support normal text and JSON object translation.\n",
    "    \"\"\"\n",
    "    def __init__(self, model: str, target_language: str='french'):\n",
    "        self.model = model\n",
    "        self.target_language = target_language\n",
    "\n",
    "    def prompt_template_json_to_json(self):\n",
    "        return \"\"\"\n",
    "            # TRANSLATION RULES\n",
    "            Your and agent desitinated to translate text to a target language.\n",
    "            - Do the translation by using the appropriate term in Tender Offer document\n",
    "            - Ensure the translation is precise and conveys the exact meaning of the original document.\n",
    "            - Maintain the original formatting and structure of the document to ensure clarity and consistency.\n",
    "            - Ensure the translation complies with any specific requirements mentioned in the tender documents.\n",
    "\n",
    "            # INSTRUCTION\n",
    "            - You will be asked to translate the a \\`\\`\\`JSON\\`\\`\\`\\` object to the target language. \n",
    "                respect the \\`\\`\\`JSON\\`\\`\\`\\`  structure and the special characters.\n",
    "            - The target language will be mentioned in the prompt.\n",
    "            - Respect the special characters and formatting of the text.\n",
    "            - Maintain the original formatting and structure of the document to ensure clarity and consistency.\n",
    "            - Ensure the translation complies with any specific requirements mentioned in the tender documents\n",
    "            - Do not add any additional information to the translation. Only translate the text provided. \n",
    "            - Do not comment on the text or provide any additional information.\n",
    "            - If the content is in the target language, do not translate it back to english.\n",
    "\n",
    "            # TRARGET LANGUAGE\n",
    "            ----------------------------------------------------------------\n",
    "            {target_language}\n",
    "            ----------------------------------------------------------------\n",
    "\n",
    "            # TEXT TO TRANSLATE\n",
    "            ----------------------------------------------------------------\n",
    "            {text_to_translate}\n",
    "            ----------------------------------------------------------------\n",
    "            \n",
    "            # FINAL TRANSLATION\n",
    "            - Do not add introduction in your response or any additional information, \n",
    "            no phrase like 'Voici', 'Voila', 'I think', 'I believe', 'I suggest', etc. 'Voici la traduction' or 'Voilà' are also not allowed.\n",
    "\n",
    "            # TASK\n",
    "            Translate the content \\`\\`\\`JSON\\`\\`\\`\\`  object in english into  the target language, \n",
    "            while preserving the \\`\\`\\`JSON\\`\\`\\`\\` object structure and special characters.\n",
    "\n",
    "        \"\"\"\n",
    "\n",
    "    def prompt_template_text_to_text(self):\n",
    "        return \"\"\"\n",
    "            # TRANSLATION RULES\n",
    "            Your and agent desitinated to translate text to a target language.\n",
    "            - Ensure the translation is precise and conveys the exact meaning of the text.\n",
    "            - Ensure the translation precise\n",
    "            - A good translation is accueate and precise.\n",
    "            - The feild of translation concern the 'tender offer' document.\n",
    "\n",
    "\n",
    "            # INSTRUCTION\n",
    "\n",
    "            - The target language will be mentioned in the prompt.\n",
    "            - Respect the special characters and formatting of the text.\n",
    "            - Maintain the original formatting and structure of the document to ensure clarity and consistency.\n",
    "            - Ensure the translation complies with any specific requirements mentioned in the tender documents\n",
    "            - Do not add any additional information to the translation. Only translate the text provided. \n",
    "            - Do not comment on the text or provide any additional information.\n",
    "            - If the content is in the target language, do not translate it back to english.\n",
    "\n",
    "            # TRARGET LANGUAGE\n",
    "            ----------------------------------------------------------------\n",
    "            {target_language}\n",
    "            ----------------------------------------------------------------\n",
    "\n",
    "            # TEXT TO TRANSLATE\n",
    "            ----------------------------------------------------------------\n",
    "            {text_to_translate}\n",
    "            ----------------------------------------------------------------\n",
    "            \n",
    "            # FINAL TRANSLATION\n",
    "            - Do not add introduction in your response or any additional information, \n",
    "            no phrase like 'Voici', 'Voila', 'I think', 'I believe', 'I suggest', etc. 'Voici la traduction' or 'Voilà' are also not allowed.\n",
    "            - Do a brute translation of the text to the target language.\n",
    "\n",
    "            # TASK\n",
    "            Translate the conten in english into  the target language, \n",
    "\n",
    "\n",
    "        \"\"\"\n",
    "\n",
    "    def translate(self, content, parser=StrOutputParser()) -> str:\n",
    "        \n",
    "        \"\"\"\n",
    "        Translate the given content to the target language.\n",
    "\n",
    "        Parameters:\n",
    "        content (str or dict or list): The text or data to be translated. If a dictionary is provided, it will be converted to a list.\n",
    "        parser (StrOutputParser, optional): An instance of StrOutputParser to process the output. Defaults to StrOutputParser().\n",
    "\n",
    "        Returns:\n",
    "        str: The translated text in the target language.\n",
    "\n",
    "        If the content is empty, an empty string is returned.\n",
    "        \"\"\"\n",
    "        if content != \"\":\n",
    "            print(\"Translating the text to the target language ...\")\n",
    "            if isinstance(content, dict):\n",
    "                content = [content]\n",
    "\n",
    "            if isinstance(content, list):\n",
    "                prompt_template = self.prompt_template_json_to_json()\n",
    "            else:\n",
    "                prompt_template = self.prompt_template_text_to_text()\n",
    "            \n",
    "            template = ChatPromptTemplate([\n",
    "                (\"system\", prompt_template), \n",
    "                (\"user\", \"{text_to_translate}\")\n",
    "            ]) \n",
    "            input_dict = {\n",
    "                \"target_language\": self.target_language,\n",
    "                \"text_to_translate\": content\n",
    "            }\n",
    "\n",
    "            chain = template | self.model | parser\n",
    "            final_answer = chain.invoke(input_dict)\n",
    "            return final_answer\n",
    "        return \"\""
   ]
  },
  {
   "cell_type": "code",
   "execution_count": 16,
   "metadata": {},
   "outputs": [
    {
     "name": "stdout",
     "output_type": "stream",
     "text": [
      "Translating the text to the target language ...\n"
     ]
    },
    {
     "data": {
      "text/plain": [
       "\"Benjamin F. McAdoo (1920-1981) était un architecte américain principalement actif dans la région de Seattle. Né à Pasadena, en Californie, il a été inspiré à étudier l'architecture par un cours de dessin mécanique et l'œuvre de Paul R. Williams.\""
      ]
     },
     "execution_count": 16,
     "metadata": {},
     "output_type": "execute_result"
    }
   ],
   "source": [
    "translatior_agent = TranslatorAgent(llm, 'french')\n",
    "\n",
    "\n",
    "translatior_agent.translate(\n",
    "\"\"\"\n",
    "    Benjamin F. McAdoo (1920–1981) was an American architect mainly\\n\n",
    "    active in the Seattle area. Born in Pasadena, California, he was\\n\n",
    "    inspired to study architecture by a mechanical-drawing class\\n\n",
    "    and the work of Paul R. Williams.\n",
    "\"\"\")"
   ]
  },
  {
   "cell_type": "code",
   "execution_count": 17,
   "metadata": {},
   "outputs": [
    {
     "name": "stdout",
     "output_type": "stream",
     "text": [
      "Translating the text to the target language ...\n"
     ]
    },
    {
     "data": {
      "text/plain": [
       "\"[{'type_of_classification': 'cctp', 'final_answer_classification': 'Oui'}]\""
      ]
     },
     "execution_count": 17,
     "metadata": {},
     "output_type": "execute_result"
    }
   ],
   "source": [
    "json_content = {\n",
    "\"type_of_classification\": \"cctp\",\n",
    "\"final_answer_classification\": \"Yes\"\n",
    "}\n",
    "translatior_agent.translate(json_content)"
   ]
  }
 ],
 "metadata": {
  "kernelspec": {
   "display_name": "bluegen-ATfABDXN-py3.12",
   "language": "python",
   "name": "python3"
  },
  "language_info": {
   "codemirror_mode": {
    "name": "ipython",
    "version": 3
   },
   "file_extension": ".py",
   "mimetype": "text/x-python",
   "name": "python",
   "nbconvert_exporter": "python",
   "pygments_lexer": "ipython3",
   "version": "3.12.8"
  }
 },
 "nbformat": 4,
 "nbformat_minor": 2
}
